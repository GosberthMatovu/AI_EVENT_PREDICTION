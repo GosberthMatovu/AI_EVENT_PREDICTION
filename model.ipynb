{
 "cells": [
  {
   "cell_type": "code",
   "execution_count": 13,
   "metadata": {},
   "outputs": [
    {
     "name": "stderr",
     "output_type": "stream",
     "text": [
      "/var/folders/pg/xzqpt8lj4d33_twrymcrbz0h0000gn/T/ipykernel_2823/549213093.py:18: FutureWarning: DataFrame.fillna with 'method' is deprecated and will raise in a future version. Use obj.ffill() or obj.bfill() instead.\n",
      "  data.fillna(method='ffill', inplace=True)  # Forward fill for simplicity\n"
     ]
    },
    {
     "name": "stdout",
     "output_type": "stream",
     "text": [
      "Cross-validated Accuracy: 0.33\n"
     ]
    },
    {
     "data": {
      "text/plain": [
       "['feature_columns.pkl']"
      ]
     },
     "execution_count": 13,
     "metadata": {},
     "output_type": "execute_result"
    }
   ],
   "source": [
    "# Import necessary libraries\n",
    "import pandas as pd\n",
    "from sklearn.model_selection import train_test_split, cross_val_score\n",
    "from sklearn.preprocessing import LabelEncoder, StandardScaler\n",
    "from sklearn.ensemble import RandomForestClassifier\n",
    "import joblib\n",
    "\n",
    "# Load the data\n",
    "data = pd.read_csv('ai_event_prediction.csv')\n",
    "\n",
    "# Strip extra spaces from column names\n",
    "data.columns = data.columns.str.strip()\n",
    "\n",
    "# Convert 'Date' column to datetime format\n",
    "data['Date'] = pd.to_datetime(data['Date'], format='%d/%m/%Y')\n",
    "\n",
    "# Handle missing values (if any)\n",
    "data.fillna(method='ffill', inplace=True)  # Forward fill for simplicity\n",
    "\n",
    "# Convert categorical columns to numerical format using Label Encoding\n",
    "label_encoder_location = LabelEncoder()\n",
    "data['Location'] = label_encoder_location.fit_transform(data['Location'])\n",
    "label_encoder_weather = LabelEncoder()\n",
    "data['Weather Conditions'] = label_encoder_weather.fit_transform(data['Weather Conditions'])\n",
    "\n",
    "# Normalize/scale the numerical columns\n",
    "scaler = StandardScaler()\n",
    "numerical_columns = data.columns.drop(['Date', 'Event-Specific Factors'])\n",
    "data[numerical_columns] = scaler.fit_transform(data[numerical_columns])\n",
    "\n",
    "# Categorize the target variable into three classes\n",
    "# Example rules (these should be adjusted based on the actual data)\n",
    "data['Event-Specific Factors'] = pd.cut(\n",
    "    data['Event-Specific Factors'],\n",
    "    bins=[-float('inf'), 0.33, 0.66, float('inf')],\n",
    "    labels=['huge population attended', 'small population attended', 'moderate population attended']\n",
    ")\n",
    "\n",
    "# Split the data into features and target\n",
    "X = data.drop(['Event-Specific Factors', 'Date'], axis=1)\n",
    "y = data['Event-Specific Factors']\n",
    "\n",
    "# Split the data into training and testing sets\n",
    "X_train, X_test, y_train, y_test = train_test_split(X, y, test_size=0.2, random_state=42)\n",
    "\n",
    "# Define class weights\n",
    "class_weights = {'huge population attended': 0.7, 'moderate population attended': 0.7, 'small population attended': 0.7}\n",
    "\n",
    "# Train a RandomForestClassifier with class weights\n",
    "model = RandomForestClassifier(n_estimators=100, random_state=42, class_weight=class_weights)\n",
    "model.fit(X_train, y_train)\n",
    "\n",
    "# Make predictions\n",
    "y_pred = model.predict(X_test)\n",
    "\n",
    "# Evaluate the model using cross-validation\n",
    "scores = cross_val_score(model, X, y, cv=5)  # 5-fold cross-validation\n",
    "accuracy = scores.mean()\n",
    "\n",
    "print(f'Cross-validated Accuracy: {accuracy:.2f}')\n",
    "\n",
    "# Save the model and preprocessing objects\n",
    "joblib.dump(model, 'event_prediction_model.pkl')\n",
    "joblib.dump(label_encoder_location, 'label_encoder_location.pkl')\n",
    "joblib.dump(label_encoder_weather, 'label_encoder_weather.pkl')\n",
    "joblib.dump(scaler, 'scaler.pkl')\n",
    "joblib.dump(X.columns.tolist(), 'feature_columns.pkl')\n"
   ]
  }
 ],
 "metadata": {
  "kernelspec": {
   "display_name": "base",
   "language": "python",
   "name": "python3"
  },
  "language_info": {
   "codemirror_mode": {
    "name": "ipython",
    "version": 3
   },
   "file_extension": ".py",
   "mimetype": "text/x-python",
   "name": "python",
   "nbconvert_exporter": "python",
   "pygments_lexer": "ipython3",
   "version": "3.11.7"
  }
 },
 "nbformat": 4,
 "nbformat_minor": 2
}
